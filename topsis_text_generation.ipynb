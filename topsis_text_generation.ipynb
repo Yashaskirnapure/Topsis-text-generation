{
 "cells": [
  {
   "cell_type": "code",
   "execution_count": 2,
   "id": "00dc1694",
   "metadata": {},
   "outputs": [],
   "source": [
    "from transformers import AutoModelForCausalLM, AutoTokenizer\n",
    "from datasets import load_dataset"
   ]
  },
  {
   "cell_type": "markdown",
   "id": "121ae12d-c522-43f9-88ed-48f7003e6b1c",
   "metadata": {},
   "source": [
    "# Loading dataset for Text Generation"
   ]
  },
  {
   "cell_type": "code",
   "execution_count": 47,
   "id": "031d144b-296e-4897-8323-4fe8b10f98ab",
   "metadata": {},
   "outputs": [
    {
     "data": {
      "text/html": [
       "<div>\n",
       "<style scoped>\n",
       "    .dataframe tbody tr th:only-of-type {\n",
       "        vertical-align: middle;\n",
       "    }\n",
       "\n",
       "    .dataframe tbody tr th {\n",
       "        vertical-align: top;\n",
       "    }\n",
       "\n",
       "    .dataframe thead th {\n",
       "        text-align: right;\n",
       "    }\n",
       "</style>\n",
       "<table border=\"1\" class=\"dataframe\">\n",
       "  <thead>\n",
       "    <tr style=\"text-align: right;\">\n",
       "      <th></th>\n",
       "      <th>Sentence</th>\n",
       "    </tr>\n",
       "  </thead>\n",
       "  <tbody>\n",
       "    <tr>\n",
       "      <th>0</th>\n",
       "      <td>\"The sun is shining.\"</td>\n",
       "    </tr>\n",
       "    <tr>\n",
       "      <th>1</th>\n",
       "      <td>\"I enjoy reading books.\"</td>\n",
       "    </tr>\n",
       "    <tr>\n",
       "      <th>2</th>\n",
       "      <td>\"This pizza tastes amazing.\"</td>\n",
       "    </tr>\n",
       "    <tr>\n",
       "      <th>3</th>\n",
       "      <td>\"My favorite color is green.\"</td>\n",
       "    </tr>\n",
       "    <tr>\n",
       "      <th>4</th>\n",
       "      <td>\"I like to play the guitar.\"</td>\n",
       "    </tr>\n",
       "  </tbody>\n",
       "</table>\n",
       "</div>"
      ],
      "text/plain": [
       "                        Sentence\n",
       "0          \"The sun is shining.\"\n",
       "1       \"I enjoy reading books.\"\n",
       "2   \"This pizza tastes amazing.\"\n",
       "3  \"My favorite color is green.\"\n",
       "4   \"I like to play the guitar.\""
      ]
     },
     "execution_count": 47,
     "metadata": {},
     "output_type": "execute_result"
    }
   ],
   "source": [
    "import pandas as pd\n",
    "\n",
    "df = pd.read_csv(\"./data.csv\")\n",
    "test = pd.DataFrame(df['Sentence'])\n",
    "test = test.dropna()\n",
    "test.head()"
   ]
  },
  {
   "cell_type": "markdown",
   "id": "23eb40cc-838a-4e4a-8c59-894608b2d498",
   "metadata": {},
   "source": [
    "# Loading text generation models from Hugging Face"
   ]
  },
  {
   "cell_type": "code",
   "execution_count": 53,
   "id": "0ba4dc4d-eff6-4d8f-9113-f172ec8144d5",
   "metadata": {},
   "outputs": [],
   "source": [
    "from transformers import pipeline\n",
    "\n",
    "model1= pipeline('text-generation', model='gpt2')\n",
    "model2= pipeline('text-generation', model='distilgpt2')\n",
    "model3= pipeline('text-generation', model='gpt2-medium')\n",
    "model4= pipeline('text-generation', model='gpt2-large')"
   ]
  },
  {
   "cell_type": "code",
   "execution_count": 54,
   "id": "af386435-6984-4567-a16b-225b5ce50f63",
   "metadata": {},
   "outputs": [],
   "source": [
    "from transformers import GPT2LMHeadModel, GPT2Tokenizer\n",
    "import torch\n",
    "import nltk\n",
    "from nltk.translate.bleu_score import sentence_bleu\n",
    "from rouge_score import rouge_scorer"
   ]
  },
  {
   "cell_type": "markdown",
   "id": "9212ade2-1efd-476d-944f-8202086ae895",
   "metadata": {},
   "source": [
    "# Calculating parameters for assessing text generation models -\n",
    "* ### Perplexity\n",
    "* ### Rouge score\n",
    "* ### Bleu score"
   ]
  },
  {
   "cell_type": "code",
   "execution_count": 55,
   "id": "72ecc41b-62f6-40a1-bf7a-8be07c9b4c63",
   "metadata": {},
   "outputs": [],
   "source": [
    "A=[]\n",
    "B=[]\n",
    "C=[]"
   ]
  },
  {
   "cell_type": "code",
   "execution_count": 50,
   "id": "8a8c2996-6b5d-47aa-bbd7-d100ef01c43a",
   "metadata": {},
   "outputs": [
    {
     "name": "stderr",
     "output_type": "stream",
     "text": [
      "[nltk_data] Downloading package punkt to\n",
      "[nltk_data]     C:\\Users\\Yashas\\AppData\\Roaming\\nltk_data...\n",
      "[nltk_data]   Package punkt is already up-to-date!\n"
     ]
    },
    {
     "data": {
      "text/plain": [
       "True"
      ]
     },
     "execution_count": 50,
     "metadata": {},
     "output_type": "execute_result"
    }
   ],
   "source": [
    "nltk.download('punkt')"
   ]
  },
  {
   "cell_type": "code",
   "execution_count": 56,
   "id": "4e99af36-cf82-43d6-8fa8-f212f1264c14",
   "metadata": {},
   "outputs": [],
   "source": [
    "def calculate_perplexity(model, tokenizer, text):\n",
    "    input_ids = tokenizer.encode(text, return_tensors=\"pt\")\n",
    "    with torch.no_grad():\n",
    "        logits = model(input_ids).logits\n",
    "    loss = torch.nn.functional.cross_entropy(logits.view(-1, logits.size(-1)), input_ids.view(-1))\n",
    "    perplexity = torch.exp(loss)\n",
    "    return perplexity.item()\n",
    "\n",
    "test_data = test['Sentence'].tolist()"
   ]
  },
  {
   "cell_type": "code",
   "execution_count": 57,
   "id": "48f643e4-c8a5-4b22-8454-8f40039a5324",
   "metadata": {},
   "outputs": [
    {
     "name": "stderr",
     "output_type": "stream",
     "text": [
      "C:\\Users\\Yashas\\Desktop\\Topsis-text-generation\\Lib\\site-packages\\nltk\\translate\\bleu_score.py:552: UserWarning: \n",
      "The hypothesis contains 0 counts of 2-gram overlaps.\n",
      "Therefore the BLEU score evaluates to 0, independently of\n",
      "how many N-gram overlaps of lower order it contains.\n",
      "Consider using lower n-gram order or use SmoothingFunction()\n",
      "  warnings.warn(_msg)\n",
      "C:\\Users\\Yashas\\Desktop\\Topsis-text-generation\\Lib\\site-packages\\nltk\\translate\\bleu_score.py:552: UserWarning: \n",
      "The hypothesis contains 0 counts of 3-gram overlaps.\n",
      "Therefore the BLEU score evaluates to 0, independently of\n",
      "how many N-gram overlaps of lower order it contains.\n",
      "Consider using lower n-gram order or use SmoothingFunction()\n",
      "  warnings.warn(_msg)\n",
      "C:\\Users\\Yashas\\Desktop\\Topsis-text-generation\\Lib\\site-packages\\nltk\\translate\\bleu_score.py:552: UserWarning: \n",
      "The hypothesis contains 0 counts of 4-gram overlaps.\n",
      "Therefore the BLEU score evaluates to 0, independently of\n",
      "how many N-gram overlaps of lower order it contains.\n",
      "Consider using lower n-gram order or use SmoothingFunction()\n",
      "  warnings.warn(_msg)\n"
     ]
    },
    {
     "name": "stdout",
     "output_type": "stream",
     "text": [
      "Model: gpt2\n",
      "Avg Perplexity: 18263.19857096354\n",
      "Avg BLEU Score: 8.787765354793972e-233\n",
      "Avg ROUGE Score: 1.0\n",
      "\n",
      "\n",
      "Model: distilgpt2\n",
      "Avg Perplexity: 9102.073893229166\n",
      "Avg BLEU Score: 8.787765354793972e-233\n",
      "Avg ROUGE Score: 1.0\n",
      "\n",
      "\n",
      "Model: gpt2-medium\n",
      "Avg Perplexity: 19878.61232421875\n",
      "Avg BLEU Score: 8.787765354793972e-233\n",
      "Avg ROUGE Score: 1.0\n",
      "\n",
      "\n",
      "Model: gpt2-large\n",
      "Avg Perplexity: 26192.336119791667\n",
      "Avg BLEU Score: 8.787765354793972e-233\n",
      "Avg ROUGE Score: 1.0\n",
      "\n",
      "\n"
     ]
    }
   ],
   "source": [
    "for model_name in [\"gpt2\", \"distilgpt2\", \"gpt2-medium\", \"gpt2-large\"]:\n",
    "    tokenizer = GPT2Tokenizer.from_pretrained(model_name)\n",
    "    model = GPT2LMHeadModel.from_pretrained(model_name)\n",
    "\n",
    "    total_perplexity = 0\n",
    "    total_bleu_score = 0\n",
    "    total_rouge_score = 0\n",
    "\n",
    "    for sentence in test_data:\n",
    "        sentence = str(sentence)\n",
    "\n",
    "        tokens = tokenizer.tokenize(sentence)\n",
    "        perplexity_score = calculate_perplexity(model, tokenizer, tokens)\n",
    "        total_perplexity += perplexity_score\n",
    "\n",
    "        reference_tokens = [nltk.word_tokenize(sentence.lower())]\n",
    "        candidate_tokens = tokenizer.tokenize(sentence)\n",
    "        bleu_score = sentence_bleu(reference_tokens, candidate_tokens)\n",
    "        total_bleu_score += bleu_score\n",
    "\n",
    "        scorer = rouge_scorer.RougeScorer(['rougeL'], use_stemmer=True)\n",
    "        scores = scorer.score(sentence, sentence)\n",
    "        rouge_score = scores['rougeL'].fmeasure\n",
    "        total_rouge_score += rouge_score\n",
    "\n",
    "    avg_perplexity = total_perplexity / len(test_data)\n",
    "    avg_bleu_score = total_bleu_score / len(test_data)\n",
    "    avg_rouge_score = total_rouge_score / len(test_data)\n",
    "\n",
    "    print(f\"Model: {model_name}\")\n",
    "    print(f\"Avg Perplexity: {avg_perplexity}\")\n",
    "    A.append(avg_perplexity)\n",
    "    print(f\"Avg BLEU Score: {avg_bleu_score}\")\n",
    "    B.append(avg_bleu_score)\n",
    "    print(f\"Avg ROUGE Score: {avg_rouge_score}\")\n",
    "    C.append(avg_rouge_score)\n",
    "    print(\"\\n\")"
   ]
  },
  {
   "cell_type": "code",
   "execution_count": 58,
   "id": "94b934f9-2376-4f32-afd0-980ffb1fd1cc",
   "metadata": {},
   "outputs": [],
   "source": [
    "models=['gpt2','distilgpt2','gpt2-medium','gpt2-large']"
   ]
  },
  {
   "cell_type": "code",
   "execution_count": 62,
   "id": "15d28fd8-b6f3-435b-a0c0-2e183a1e98e9",
   "metadata": {},
   "outputs": [],
   "source": [
    "model_df=pd.DataFrame({'model':models,\"perplexity\":A,\"BLEU\":B,\"ROUGE\":C})"
   ]
  },
  {
   "cell_type": "code",
   "execution_count": 68,
   "id": "890bbcb2-f24d-4738-8381-8f6a4c914473",
   "metadata": {},
   "outputs": [
    {
     "data": {
      "text/html": [
       "<div>\n",
       "<style scoped>\n",
       "    .dataframe tbody tr th:only-of-type {\n",
       "        vertical-align: middle;\n",
       "    }\n",
       "\n",
       "    .dataframe tbody tr th {\n",
       "        vertical-align: top;\n",
       "    }\n",
       "\n",
       "    .dataframe thead th {\n",
       "        text-align: right;\n",
       "    }\n",
       "</style>\n",
       "<table border=\"1\" class=\"dataframe\">\n",
       "  <thead>\n",
       "    <tr style=\"text-align: right;\">\n",
       "      <th></th>\n",
       "      <th>perplexity</th>\n",
       "      <th>BLEU</th>\n",
       "      <th>ROUGE</th>\n",
       "    </tr>\n",
       "    <tr>\n",
       "      <th>model</th>\n",
       "      <th></th>\n",
       "      <th></th>\n",
       "      <th></th>\n",
       "    </tr>\n",
       "  </thead>\n",
       "  <tbody>\n",
       "    <tr>\n",
       "      <th>gpt2</th>\n",
       "      <td>18263.198571</td>\n",
       "      <td>8.787765e-233</td>\n",
       "      <td>1.0</td>\n",
       "    </tr>\n",
       "    <tr>\n",
       "      <th>distilgpt2</th>\n",
       "      <td>9102.073893</td>\n",
       "      <td>8.787765e-233</td>\n",
       "      <td>1.0</td>\n",
       "    </tr>\n",
       "    <tr>\n",
       "      <th>gpt2-medium</th>\n",
       "      <td>19878.612324</td>\n",
       "      <td>8.787765e-233</td>\n",
       "      <td>1.0</td>\n",
       "    </tr>\n",
       "    <tr>\n",
       "      <th>gpt2-large</th>\n",
       "      <td>26192.336120</td>\n",
       "      <td>8.787765e-233</td>\n",
       "      <td>1.0</td>\n",
       "    </tr>\n",
       "  </tbody>\n",
       "</table>\n",
       "</div>"
      ],
      "text/plain": [
       "               perplexity           BLEU  ROUGE\n",
       "model                                          \n",
       "gpt2         18263.198571  8.787765e-233    1.0\n",
       "distilgpt2    9102.073893  8.787765e-233    1.0\n",
       "gpt2-medium  19878.612324  8.787765e-233    1.0\n",
       "gpt2-large   26192.336120  8.787765e-233    1.0"
      ]
     },
     "execution_count": 68,
     "metadata": {},
     "output_type": "execute_result"
    }
   ],
   "source": [
    "model_df"
   ]
  },
  {
   "cell_type": "code",
   "execution_count": 81,
   "id": "7b736d12-d9aa-4f50-8d36-14d0310e53ff",
   "metadata": {},
   "outputs": [
    {
     "data": {
      "image/png": "[encoded data removed]",
      "text/plain": [
       "<Figure size 640x480 with 1 Axes>"
      ]
     },
     "metadata": {},
     "output_type": "display_data"
    }
   ],
   "source": [
    "import matplotlib.pyplot as plt\n",
    "\n",
    "model_df.plot(kind='bar', y='perplexity', legend=False)\n",
    "\n",
    "plt.xlabel('Model')\n",
    "plt.ylabel('Perplexity')\n",
    "plt.title('Perplexity')\n",
    "\n",
    "plt.show()"
   ]
  },
  {
   "cell_type": "code",
   "execution_count": 83,
   "id": "c3a622d2-f1cc-4608-956a-758ad6060c36",
   "metadata": {},
   "outputs": [
    {
     "data": {
      "image/png": "[encoded data removed]",
      "text/plain": [
       "<Figure size 640x480 with 1 Axes>"
      ]
     },
     "metadata": {},
     "output_type": "display_data"
    }
   ],
   "source": [
    "model_df.plot(kind='bar', y='ROUGE', legend=False)\n",
    "\n",
    "plt.xlabel('Model')\n",
    "plt.ylabel('ROUGE')\n",
    "plt.title('ROUGE')\n",
    "\n",
    "plt.show()"
   ]
  },
  {
   "cell_type": "code",
   "execution_count": 84,
   "id": "afe55e85-b6cb-48cf-ac09-8f3711518bb2",
   "metadata": {},
   "outputs": [
    {
     "data": {
      "image/png": "[encoded data removed]",
      "text/plain": [
       "<Figure size 640x480 with 1 Axes>"
      ]
     },
     "metadata": {},
     "output_type": "display_data"
    }
   ],
   "source": [
    "model_df.plot(kind='bar', y='BLEU', legend=False)\n",
    "\n",
    "plt.xlabel('Model')\n",
    "plt.ylabel('BLEU')\n",
    "plt.title('BLEU')\n",
    "\n",
    "plt.show()"
   ]
  },
  {
   "cell_type": "markdown",
   "id": "89a6e3f2-2b27-44cf-98d4-8f5f4628c2ee",
   "metadata": {},
   "source": [
    "## Topsis Analysis for ranking the models"
   ]
  },
  {
   "cell_type": "code",
   "execution_count": 71,
   "id": "ee4ceacd-eba7-4801-aa4a-b5cfd6dcf64e",
   "metadata": {},
   "outputs": [
    {
     "data": {
      "text/html": [
       "<div>\n",
       "<style scoped>\n",
       "    .dataframe tbody tr th:only-of-type {\n",
       "        vertical-align: middle;\n",
       "    }\n",
       "\n",
       "    .dataframe tbody tr th {\n",
       "        vertical-align: top;\n",
       "    }\n",
       "\n",
       "    .dataframe thead th {\n",
       "        text-align: right;\n",
       "    }\n",
       "</style>\n",
       "<table border=\"1\" class=\"dataframe\">\n",
       "  <thead>\n",
       "    <tr style=\"text-align: right;\">\n",
       "      <th></th>\n",
       "      <th>perplexity</th>\n",
       "      <th>BLEU</th>\n",
       "      <th>ROUGE</th>\n",
       "      <th>TopsisScore</th>\n",
       "      <th>Rank</th>\n",
       "    </tr>\n",
       "    <tr>\n",
       "      <th>model</th>\n",
       "      <th></th>\n",
       "      <th></th>\n",
       "      <th></th>\n",
       "      <th></th>\n",
       "      <th></th>\n",
       "    </tr>\n",
       "  </thead>\n",
       "  <tbody>\n",
       "    <tr>\n",
       "      <th>gpt2</th>\n",
       "      <td>0.471933</td>\n",
       "      <td>inf</td>\n",
       "      <td>0.5</td>\n",
       "      <td>0.463956</td>\n",
       "      <td>2</td>\n",
       "    </tr>\n",
       "    <tr>\n",
       "      <th>distilgpt2</th>\n",
       "      <td>0.235204</td>\n",
       "      <td>inf</td>\n",
       "      <td>0.5</td>\n",
       "      <td>1.000000</td>\n",
       "      <td>1</td>\n",
       "    </tr>\n",
       "    <tr>\n",
       "      <th>gpt2-medium</th>\n",
       "      <td>0.513676</td>\n",
       "      <td>inf</td>\n",
       "      <td>0.5</td>\n",
       "      <td>0.369434</td>\n",
       "      <td>3</td>\n",
       "    </tr>\n",
       "    <tr>\n",
       "      <th>gpt2-large</th>\n",
       "      <td>0.676827</td>\n",
       "      <td>inf</td>\n",
       "      <td>0.5</td>\n",
       "      <td>0.000000</td>\n",
       "      <td>4</td>\n",
       "    </tr>\n",
       "  </tbody>\n",
       "</table>\n",
       "</div>"
      ],
      "text/plain": [
       "             perplexity  BLEU  ROUGE  TopsisScore  Rank\n",
       "model                                                  \n",
       "gpt2           0.471933   inf    0.5     0.463956     2\n",
       "distilgpt2     0.235204   inf    0.5     1.000000     1\n",
       "gpt2-medium    0.513676   inf    0.5     0.369434     3\n",
       "gpt2-large     0.676827   inf    0.5     0.000000     4"
      ]
     },
     "execution_count": 71,
     "metadata": {},
     "output_type": "execute_result"
    }
   ],
   "source": [
    "import pandas as pd\n",
    "import numpy as np\n",
    "\n",
    "def topsis():\n",
    "\n",
    "    data = model_df\n",
    "    weights = [1,1,1]\n",
    "    impact = [-1,1,1]\n",
    "\n",
    "    norm_data=data/np.sqrt((data ** 2).sum(axis=0))\n",
    "    norm_data=norm_data*weights\n",
    "    rough=norm_data*impact\n",
    "\n",
    "\n",
    "    best=rough.max().abs()\n",
    "    worst=rough.min().abs()\n",
    "    dist_best=np.sqrt(((norm_data-best)**2).sum(axis=1))\n",
    "    dist_worst=np.sqrt(((norm_data-worst)**2).sum(axis=1))\n",
    "\n",
    "\n",
    "    total_dist=dist_best+dist_worst\n",
    "    performance=dist_worst/total_dist\n",
    "    rank = pd.Series(performance, name='Performance').rank(ascending=False).astype(int)\n",
    "\n",
    "    norm_data['TopsisScore']=performance\n",
    "    norm_data['Rank']=rank\n",
    "    \n",
    "    return norm_data\n",
    "\n",
    "topsis_analysis = topsis()\n",
    "topsis_analysis"
   ]
  },
  {
   "cell_type": "code",
   "execution_count": null,
   "id": "3f825ddd-d51c-4d04-b1af-8ced9b652677",
   "metadata": {},
   "outputs": [],
   "source": []
  }
 ],
 "metadata": {
  "kernelspec": {
   "display_name": "venv",
   "language": "python",
   "name": "venv"
  },
  "language_info": {
   "codemirror_mode": {
    "name": "ipython",
    "version": 3
   },
   "file_extension": ".py",
   "mimetype": "text/x-python",
   "name": "python",
   "nbconvert_exporter": "python",
   "pygments_lexer": "ipython3",
   "version": "3.11.7"
  }
 },
 "nbformat": 4,
 "nbformat_minor": 5
}
